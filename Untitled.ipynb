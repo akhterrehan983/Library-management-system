{
 "cells": [
  {
   "cell_type": "markdown",
   "metadata": {},
   "source": []
  },
  {
   "cell_type": "code",
   "execution_count": 1,
   "metadata": {},
   "outputs": [],
   "source": [
    "l=[]\n",
    "fl=[]\n",
    "bl=[]\n",
    "import pickle\n",
    "import getpass\n",
    "from Student import *\n",
    "from Book import *\n",
    "from Faculty import *\n",
    "from Adm_login import *\n",
    "flag_s=0\n",
    "flag_f=0\n",
    "flag_b=0\n",
    "# p_word=getpass.getpass(\"Enter password:   \")\n",
    "# with open('admin_pass.pkl','rb') as f:\n",
    "#     obj=pickle.load(f)\n",
    "#     if(obj['password']==p_word):\n",
    "#         print(\"PASSWORD MATCHED!!!\")\n",
    "a_obj=Adm_login()\n",
    "if(a_obj.login()==1):\n",
    "    while(True):\n",
    "        print(\"*************************\\nLIBRABY MAIN MENU:-\\n\\n1: For add a student\\n2: For add a faculty\\n3: For add a book\\n4: For issue book to student\\n5: for issue book to faculty\\n6: For return book by student\\n7: For return book by faculty\\n8: For search a book\\n9: For student details\\n10: For faculty details\\n11: For book details\\n0: For exit\\n\\n***************************\")\n",
    "        choice=int(input())\n",
    "        s=Student()    \n",
    "        f=Faculty()     \n",
    "        b=Book()\n",
    "\n",
    "        if(choice==1):\n",
    "            sname=input(\"Enter Name:  \")\n",
    "            yadmn=input(\"Enter year of admission:  \")\n",
    "            if(int(yadmn)!=2019):\n",
    "                print(\"INVALID YEAR\\nPLEASE TRY AGAIN\")\n",
    "                continue\n",
    "            branch=input(\"Enter branch:  \")\n",
    "            admn_id=input(\"Enter admission id no:  \")\n",
    "            if(len(admn_id)==4):\n",
    "                if(s.check(admn_id)==0):\n",
    "                    print(\"Admission Id already exists\")\n",
    "                    continue\n",
    "            else:\n",
    "                print(\"INVALID Admission No\")\n",
    "                continue  \n",
    "            roll=(yadmn+'0187'+branch+admn_id)\n",
    "            s.add_student(sname,yadmn,branch,admn_id,roll,0)\n",
    "            l.append(s)\n",
    "            flag_s=1\n",
    "\n",
    "        if(choice==0):\n",
    "            if(flag_s==1):\n",
    "                with open('s_details.pkl','ab') as f:\n",
    "                    pickle.dump(l,f)\n",
    "            if(flag_b==1):\n",
    "                with open('b_details.pkl','ab') as f:\n",
    "                    pickle.dump(bl,f)\n",
    "            if(flag_f==1):\n",
    "                with open('f_details.pkl','ab') as f:\n",
    "                    pickle.dump(fl,f)\n",
    "            break    \n",
    "\n",
    "        if(choice==9):\n",
    "            s.load_data()\n",
    "\n",
    "        if(choice==2):\n",
    "            if(f.add_faculty()==1):\n",
    "                if(f.check()==0):\n",
    "                    fl.append(f)\n",
    "                    flag_f=1\n",
    "                else:\n",
    "                    print(\"Faculty with this eid already exists. Cannot add Faculty.\")\n",
    "            else:\n",
    "                print(\"INVALID ID\\nPlease try again\")\n",
    "\n",
    "        if(choice==5):\n",
    "            f.Issue_book()\n",
    "\n",
    "        if(choice==10):\n",
    "            f.load_data()\n",
    "\n",
    "        if(choice==3):\n",
    "            isbn=input(\"Enter ISBN no:   \")\n",
    "            if(len(isbn)==13):\n",
    "                b.add_book(isbn)\n",
    "                if(b.check(isbn)==0):\n",
    "                    bl.append(b)\n",
    "                    flag_b=1\n",
    "            else:\n",
    "                print(\"Invalid ISBN NO\\nTry again\")\n",
    "\n",
    "        if(choice==8):\n",
    "            b.search_book()     \n",
    "\n",
    "        if(choice==4):\n",
    "            s.Issue_book()\n",
    "\n",
    "        if(choice==11):\n",
    "            b.load_data()\n",
    "\n",
    "        if(choice==6):\n",
    "            s.Return_book()\n",
    "\n",
    "        if(choice==7):\n",
    "            f.Return_book()\n",
    "\n",
    "           "
   ]
  },
  {
   "cell_type": "raw",
   "metadata": {},
   "source": []
  },
  {
   "cell_type": "code",
   "execution_count": 4,
   "metadata": {},
   "outputs": [
    {
     "data": {
      "text/plain": [
       "'C:\\\\Users\\\\sarfaraj\\\\Desktop\\\\project_library'"
      ]
     },
     "execution_count": 4,
     "metadata": {},
     "output_type": "execute_result"
    }
   ],
   "source": [
    "1234567890123     20190187cse5678"
   ]
  },
  {
   "cell_type": "code",
   "execution_count": 4,
   "metadata": {},
   "outputs": [],
   "source": [
    "import pickle\n",
    "d={}\n",
    "with open('admin_pass.pkl','wb') as f:\n",
    "    d['password']='rehan123'\n",
    "    pickle.dump(d,f)\n"
   ]
  },
  {
   "cell_type": "code",
   "execution_count": 5,
   "metadata": {},
   "outputs": [
    {
     "name": "stdout",
     "output_type": "stream",
     "text": [
      "········\n",
      "password matched!!!\n"
     ]
    }
   ],
   "source": [
    "import getpass\n",
    "import pickle\n",
    "p_word=getpass.getpass()\n",
    "with open('admin_pass.pkl','rb') as f:\n",
    "    obj=pickle.load(f)\n",
    "    if(obj['password']==p_word):\n",
    "        print(\"password matched!!!\")\n",
    "    "
   ]
  },
  {
   "cell_type": "code",
   "execution_count": 2,
   "metadata": {},
   "outputs": [
    {
     "name": "stdout",
     "output_type": "stream",
     "text": [
      "yes\n"
     ]
    }
   ],
   "source": [
    "x=123312312123\n",
    "if(type(x)==int):\n",
    "    print(\"yes\")"
   ]
  },
  {
   "cell_type": "code",
   "execution_count": 1,
   "metadata": {},
   "outputs": [],
   "source": [
    "with open('s_details.pkl','wb') as f:\n",
    "    pass"
   ]
  },
  {
   "cell_type": "code",
   "execution_count": null,
   "metadata": {},
   "outputs": [],
   "source": []
  },
  {
   "cell_type": "code",
   "execution_count": 23,
   "metadata": {},
   "outputs": [
    {
     "name": "stdout",
     "output_type": "stream",
     "text": [
      "abcdefs\n",
      "defs\n"
     ]
    }
   ],
   "source": [
    "s=input()\n",
    "x=s[-4:]\n",
    "print(x)\n"
   ]
  },
  {
   "cell_type": "code",
   "execution_count": 10,
   "metadata": {},
   "outputs": [
    {
     "name": "stdout",
     "output_type": "stream",
     "text": [
      "[]\n"
     ]
    }
   ],
   "source": [
    "class a:\n",
    "    def add(self,x,y):\n",
    "        l=[]\n",
    "#         l.append(x)\n",
    "#         l.append(y)\n",
    "        self.l=l\n",
    "        \n",
    "    def prin(self):\n",
    "#         for i in self.l:\n",
    "#             print(i)\n",
    "          print(self.l)\n",
    "ob=a()\n",
    "ob.add(2,3)\n",
    "ob.prin()"
   ]
  },
  {
   "cell_type": "code",
   "execution_count": 6,
   "metadata": {},
   "outputs": [
    {
     "data": {
      "text/plain": [
       "[1, 3]"
      ]
     },
     "execution_count": 6,
     "metadata": {},
     "output_type": "execute_result"
    }
   ],
   "source": [
    "l=[1,23,3]\n",
    "iss=23\n",
    "l.remove(iss)\n",
    "l"
   ]
  },
  {
   "cell_type": "code",
   "execution_count": 18,
   "metadata": {},
   "outputs": [
    {
     "ename": "TypeError",
     "evalue": "'int' object is not callable",
     "output_type": "error",
     "traceback": [
      "\u001b[1;31m---------------------------------------------------------------------------\u001b[0m",
      "\u001b[1;31mTypeError\u001b[0m                                 Traceback (most recent call last)",
      "\u001b[1;32m<ipython-input-18-3ca1e67f0e01>\u001b[0m in \u001b[0;36m<module>\u001b[1;34m\u001b[0m\n\u001b[0;32m      3\u001b[0m \u001b[0mx1\u001b[0m\u001b[1;33m=\u001b[0m\u001b[0mdatetime\u001b[0m\u001b[1;33m.\u001b[0m\u001b[0mdatetime\u001b[0m\u001b[1;33m.\u001b[0m\u001b[0mnow\u001b[0m\u001b[1;33m(\u001b[0m\u001b[1;33m)\u001b[0m\u001b[1;33m\u001b[0m\u001b[1;33m\u001b[0m\u001b[0m\n\u001b[0;32m      4\u001b[0m \u001b[0mx\u001b[0m\u001b[1;33m=\u001b[0m\u001b[0mstr\u001b[0m\u001b[1;33m(\u001b[0m\u001b[0mx1\u001b[0m\u001b[1;33m)\u001b[0m\u001b[1;33m\u001b[0m\u001b[1;33m\u001b[0m\u001b[0m\n\u001b[1;32m----> 5\u001b[1;33m \u001b[0mprint\u001b[0m\u001b[1;33m(\u001b[0m\u001b[0mx1\u001b[0m\u001b[1;33m.\u001b[0m\u001b[0myear\u001b[0m\u001b[1;33m(\u001b[0m\u001b[1;33m)\u001b[0m\u001b[1;33m)\u001b[0m\u001b[1;33m\u001b[0m\u001b[1;33m\u001b[0m\u001b[0m\n\u001b[0m\u001b[0;32m      6\u001b[0m \u001b[1;32mif\u001b[0m\u001b[1;33m(\u001b[0m\u001b[0mint\u001b[0m\u001b[1;33m(\u001b[0m\u001b[0mx\u001b[0m\u001b[1;33m[\u001b[0m\u001b[1;36m5\u001b[0m\u001b[1;33m:\u001b[0m\u001b[1;36m7\u001b[0m\u001b[1;33m]\u001b[0m\u001b[1;33m)\u001b[0m\u001b[1;33m>\u001b[0m\u001b[1;36m6\u001b[0m\u001b[1;33m)\u001b[0m\u001b[1;33m:\u001b[0m\u001b[1;33m\u001b[0m\u001b[1;33m\u001b[0m\u001b[0m\n\u001b[0;32m      7\u001b[0m     \u001b[0mprint\u001b[0m\u001b[1;33m(\u001b[0m\u001b[0mx\u001b[0m\u001b[1;33m)\u001b[0m\u001b[1;33m\u001b[0m\u001b[1;33m\u001b[0m\u001b[0m\n",
      "\u001b[1;31mTypeError\u001b[0m: 'int' object is not callable"
     ]
    }
   ],
   "source": [
    "import datetime\n",
    "l=[]\n",
    "x1=datetime.datetime.now()\n",
    "x=str(x1)\n",
    "print(x1.year())\n",
    "if(int(x[5:7])>6):\n",
    "    print(x)\n",
    "#l.append(x[5:10])\n",
    "l\n"
   ]
  },
  {
   "cell_type": "code",
   "execution_count": null,
   "metadata": {},
   "outputs": [],
   "source": [
    "from Adm_login import *\n",
    "a=Adm_login()\n",
    "a.login()\n"
   ]
  },
  {
   "cell_type": "code",
   "execution_count": 4,
   "metadata": {},
   "outputs": [
    {
     "name": "stdout",
     "output_type": "stream",
     "text": [
      "good\n"
     ]
    }
   ],
   "source": [
    "#login page\n",
    "from tkinter import *\n",
    "from tkinter import messagebox\n",
    "import pickle\n",
    "class Adm_login:\n",
    "    def check(self):\n",
    "        with open('admin_pass.pkl','rb') as f:\n",
    "            obj=pickle.load(f)\n",
    "            if(self.entry2.get==obj['password']):\n",
    "                messagebox.showinfo(\"MATCHED\",icon=\"info\")\n",
    "            else:\n",
    "                messagebox.showinfo(\"WRONG\",icon=\"warning\")\n",
    "    def login(self):\n",
    "        root=Tk()\n",
    "        root.title(\"GUI PRACTICE\")\n",
    "        root.geometry(\"500x300\")\n",
    "        lb=Label(root,text=\"Admin Login\",font=('Arial',12,'bold'),fg=\"steel blue\",bd=20,anchor='w')\n",
    "        lb.grid(row=0,column=2)\n",
    "        # fr=Frame(root,width=100,heigh=100,text=\"ADMIN LOGIN\")\n",
    "        name=Label(root,text=\"Name\",font=('arial',10,'bold'))\n",
    "        password=Label(root,text=\"password\",font=('arial',10,'bold'))\n",
    "        self.entry1=Entry(root)\n",
    "        self.entry2=Entry(root)\n",
    "\n",
    "        name.grid(row=1,column=0,stick=E)\n",
    "        password.grid(row=2,column=0,stick=E)\n",
    "\n",
    "        self.entry1.grid(row=1,column=1)\n",
    "        self.entry2.grid(row=2,column=1)\n",
    "        submit=Button(root,text=\"SUBMIT\",fg=\"blue\",bg=\"powder blue\",command=self.check)\n",
    "        submit.grid(row=3,column=1)\n",
    "        print(\"good\")\n",
    "        root.mainloop()\n",
    "ob=Adm_login()\n",
    "ob.login()"
   ]
  },
  {
   "cell_type": "code",
   "execution_count": null,
   "metadata": {},
   "outputs": [],
   "source": []
  }
 ],
 "metadata": {
  "kernelspec": {
   "display_name": "Python 3",
   "language": "python",
   "name": "python3"
  },
  "language_info": {
   "codemirror_mode": {
    "name": "ipython",
    "version": 3
   },
   "file_extension": ".py",
   "mimetype": "text/x-python",
   "name": "python",
   "nbconvert_exporter": "python",
   "pygments_lexer": "ipython3",
   "version": "3.7.1"
  }
 },
 "nbformat": 4,
 "nbformat_minor": 2
}
