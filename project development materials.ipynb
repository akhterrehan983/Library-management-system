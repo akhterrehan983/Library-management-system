{
 "cells": [
  {
   "cell_type": "markdown",
   "metadata": {},
   "source": [
    "# project development rules"
   ]
  },
  {
   "cell_type": "code",
   "execution_count": 4,
   "metadata": {},
   "outputs": [],
   "source": [
    "# 1.approach should be modular\n",
    "# 2.all classes should be python script.\n",
    "# 3.class related global data structure should be in the same module class\n",
    "# 4.All functionality of roject means all methods should be in separate script of python\n",
    "# 5.Menu driven functionality should be in separate script\n",
    "# student,faculty,admin"
   ]
  },
  {
   "cell_type": "code",
   "execution_count": 5,
   "metadata": {},
   "outputs": [],
   "source": [
    "# ON HEADING\n",
    "# DOC\n",
    "# 'SISTEC'\n",
    "# NAME\n",
    "# ROLL\n",
    "\n",
    "# 1-exact problem statement\n",
    "# 2-srs\n",
    "# 3-design->usecase diagram\n",
    "# 4-database related things->files details and which file is related to which(FILE REQUIREMENTS AND WHICH FILES TO BE USED)\n",
    "# 5-summary\n",
    "\n",
    "# STUDENT->BOOK DETAILS\n",
    "# FACULTY->BOOK DETAILS\n",
    "# ADMIN-->100% ACCEESS(STUDENT,FACULTY,BOOK DETAILS,FINE CALCULATION\n",
    "# [ATTRI-ENAME,EID AND BOOKISSUED)\n",
    "# DATASTRUCT-FACULTY LIST]\n",
    "\n"
   ]
  },
  {
   "cell_type": "code",
   "execution_count": 18,
   "metadata": {},
   "outputs": [
    {
     "name": "stdout",
     "output_type": "stream",
     "text": [
      "41\n",
      "primes are=5 7 11 13 17 19 23 29 31 37 41 \n",
      " 3\n",
      "[5, 17, 41]\n"
     ]
    }
   ],
   "source": [
    "#Q:- find a prime no whose prime factors are equal to this prime no.\n",
    "#ex=5=2+3  :so count =1\n",
    "#ex=20 : in 20 there are only two prime nos 5 and 17 whose prime factors are equal to this no.\n",
    "        #5=2+3  and 17=2+3+5+7\n",
    "l=[]\n",
    "c=0\n",
    "n=int(input())\n",
    "print(\"primes are=\",end='')\n",
    "for i in range(5,n+1):\n",
    "    \n",
    "    flag=1\n",
    "    lis_a=[]\n",
    "    lis_p=[]\n",
    "    for j in range(2,(i//2)+2):   #for 5,17\n",
    "        lis_a.append(j)\n",
    "        if(i%j==0):\n",
    "            flag=0\n",
    "            break\n",
    "    if(flag==1):\n",
    "        print(i,end=' ')#OK\n",
    "        for e in lis_a:\n",
    "            flag1=1\n",
    "            for k in range(2,e): # for sum:- 2+3+5+7=17\n",
    "                if(e%k==0):\n",
    "                    flag1=0\n",
    "                    break\n",
    "            if(flag1==1):\n",
    "                lis_p.append(e)  \n",
    "    sum=0\n",
    "    for e in lis_p:\n",
    "        sum=sum+e\n",
    "        if(sum==i):\n",
    "            l.append(sum)\n",
    "            c+=1\n",
    "            break\n",
    "            \n",
    "print(\"\\n\",c)\n",
    "print(l)"
   ]
  },
  {
   "cell_type": "markdown",
   "metadata": {},
   "source": [
    "## "
   ]
  },
  {
   "cell_type": "code",
   "execution_count": 22,
   "metadata": {},
   "outputs": [
    {
     "name": "stdout",
     "output_type": "stream",
     "text": [
      "SISTEC\n",
      "Rehan Akhter\n",
      "0187cs171117\n"
     ]
    }
   ],
   "source": [
    "\"\"\"SISTEC\\nRehan Akhter\\n0187cs171117\"\"\"\n",
    "print(__doc__)"
   ]
  },
  {
   "cell_type": "code",
   "execution_count": 5,
   "metadata": {},
   "outputs": [
    {
     "name": "stdout",
     "output_type": "stream",
     "text": [
      "student\n",
      "mod\n"
     ]
    }
   ],
   "source": [
    "class Student:\n",
    "    def __init__(self):\n",
    "        print(\"student\")\n",
    "    def mod(self):\n",
    "        print(\"mod\")\n",
    "class Teacher(Student):\n",
    "    def __init__(self):\n",
    "        super().__init__()\n",
    "        Student.mod(self)\n",
    "    \n",
    "    \n",
    "    \n",
    "\n",
    "# while(True):\n",
    "#     print(\"1 for add a new student\\n2 for remove a student\\n3 for modify the details of student\\n \")\n",
    "t=Teacher()\n"
   ]
  },
  {
   "cell_type": "code",
   "execution_count": 1,
   "metadata": {},
   "outputs": [
    {
     "data": {
      "text/plain": [
       "'C:\\\\Users\\\\sarfaraj\\\\Desktop'"
      ]
     },
     "execution_count": 1,
     "metadata": {},
     "output_type": "execute_result"
    }
   ],
   "source": [
    "pwd"
   ]
  },
  {
   "cell_type": "code",
   "execution_count": null,
   "metadata": {},
   "outputs": [],
   "source": []
  }
 ],
 "metadata": {
  "kernelspec": {
   "display_name": "Python 3",
   "language": "python",
   "name": "python3"
  },
  "language_info": {
   "codemirror_mode": {
    "name": "ipython",
    "version": 3
   },
   "file_extension": ".py",
   "mimetype": "text/x-python",
   "name": "python",
   "nbconvert_exporter": "python",
   "pygments_lexer": "ipython3",
   "version": "3.7.1"
  }
 },
 "nbformat": 4,
 "nbformat_minor": 2
}
